{
 "cells": [
  {
   "cell_type": "markdown",
   "metadata": {},
   "source": [
    "# Analyse Job Advertisments\n",
    "In this notebook a bunch of PDF files that contain job advertisments are analysed with the use of the NLTK library. \n",
    "\n",
    "The script reads in a list of PDF files, then tokenize and stem the raw text of the PDFs and finally computes the tf-idf values for a list of keywords with the PDF files as foundation for the idf computation."
   ]
  },
  {
   "cell_type": "code",
   "execution_count": 1,
   "metadata": {},
   "outputs": [],
   "source": [
    "import nltk\n",
    "import string\n",
    "import os\n",
    "from sklearn.feature_extraction.text import TfidfVectorizer\n",
    "from nltk.stem.porter import PorterStemmer\n",
    "import PyPDF2 "
   ]
  },
  {
   "cell_type": "code",
   "execution_count": 37,
   "metadata": {},
   "outputs": [],
   "source": [
    "dataFolder = \"./data\"\n",
    "#dataFolder = \"/Users/schaer/sciebo/MALIS_Stellen/OpenBiblioJobs\"\n",
    "token_dict = {}"
   ]
  },
  {
   "cell_type": "code",
   "execution_count": 38,
   "metadata": {},
   "outputs": [],
   "source": [
    "def tokenize(text):\n",
    "    tokens = nltk.word_tokenize(text)\n",
    "    stems = []\n",
    "    for item in tokens:\n",
    "        stems.append(PorterStemmer().stem(item))\n",
    "    return stems"
   ]
  },
  {
   "cell_type": "code",
   "execution_count": 48,
   "metadata": {},
   "outputs": [
    {
     "name": "stdout",
     "output_type": "stream",
     "text": [
      "Read 13 files\n"
     ]
    }
   ],
   "source": [
    "numFiles = 0\n",
    "for dirpath, dirs, files in os.walk(dataFolder):\n",
    "    for f in files:        \n",
    "        fname = os.path.join(dirpath, f)\n",
    "        #print(\"fname=\", fname)\n",
    "        with open(fname, 'rb') as pdfFileObj:            \n",
    "            try: \n",
    "                numFiles=numFiles+1\n",
    "                pdfReader = PyPDF2.PdfFileReader(pdfFileObj) \n",
    "                numPages = pdfReader.getNumPages()\n",
    "                for numPage in range(numPages):\n",
    "                    pageObj = pdfReader.getPage(numPage) \n",
    "                    text = pageObj.extractText()                \n",
    "                    token_dict[f] = text.lower().translate(str.maketrans('', '', string.punctuation))\n",
    "            except:\n",
    "                print(\"error in PDF file \" + fname)\n",
    "                numFiles=numFiles-1\n",
    "            pdfFileObj.close()\n",
    "print(\"Read \" + str(numFiles) + \" files\")"
   ]
  },
  {
   "cell_type": "code",
   "execution_count": 49,
   "metadata": {},
   "outputs": [
    {
     "name": "stderr",
     "output_type": "stream",
     "text": [
      "UserWarning: Your stop_words may be inconsistent with your preprocessing. Tokenizing the stop words generated tokens [',', '?', 'al', 'all', 'allerd', 'beid', 'bereit', 'besond', 'bi', 'dahint', 'damal', 'darau', 'darunt', 'dasselb', 'de', 'demgegenüb', 'demzufolg', 'derjenig', 'derselb', 'diejenig', 'dieselb', 'dritt', 'durchau', 'durft', 'einand', 'end', 'entwed', 'eur', 'folgend', 'gegenüb', 'gerad', 'geschweig', 'hatt', 'heut', 'klein', 'konnt', 'leid', 'lo', 'manch', 'mocht', 'neunt', 'ohn', 'sach', 'sech', 'sechst', 'siebent', 'solch', 'sowi', 'startseit', 'such', 'un', 'viert', 'wa', 'wahr', 'welch', 'wenigsten', 'werd', 'wurd', 'zehnt', 'zweit', 'übrigen'] not in stop_words. [text.py:385]\n"
     ]
    }
   ],
   "source": [
    "german_stopwords = [\"a\",\"ab\",\"aber\",\"ach\",\"acht\",\"achte\",\"achten\",\"achter\",\"achtes\",\"ag\",\"alle\",\"allein\",\"allem\",\"allen\",\"aller\",\"allerdings\",\"alles\",\"allgemeinen\",\"als\",\"also\",\"am\",\"an\",\"ander\",\"andere\",\"anderem\",\"anderen\",\"anderer\",\"anderes\",\"anderm\",\"andern\",\"anderr\",\"anders\",\"au\",\"auch\",\"auf\",\"aus\",\"ausser\",\"ausserdem\",\"außer\",\"außerdem\",\"b\",\"bald\",\"bei\",\"beide\",\"beiden\",\"beim\",\"beispiel\",\"bekannt\",\"bereits\",\"besonders\",\"besser\",\"besten\",\"bin\",\"bis\",\"bisher\",\"bist\",\"c\",\"d\",\"d.h\",\"da\",\"dabei\",\"dadurch\",\"dafür\",\"dagegen\",\"daher\",\"dahin\",\"dahinter\",\"damals\",\"damit\",\"danach\",\"daneben\",\"dank\",\"dann\",\"daran\",\"darauf\",\"daraus\",\"darf\",\"darfst\",\"darin\",\"darum\",\"darunter\",\"darüber\",\"das\",\"dasein\",\"daselbst\",\"dass\",\"dasselbe\",\"davon\",\"davor\",\"dazu\",\"dazwischen\",\"daß\",\"dein\",\"deine\",\"deinem\",\"deinen\",\"deiner\",\"deines\",\"dem\",\"dementsprechend\",\"demgegenüber\",\"demgemäss\",\"demgemäß\",\"demselben\",\"demzufolge\",\"den\",\"denen\",\"denn\",\"denselben\",\"der\",\"deren\",\"derer\",\"derjenige\",\"derjenigen\",\"dermassen\",\"dermaßen\",\"derselbe\",\"derselben\",\"des\",\"deshalb\",\"desselben\",\"dessen\",\"deswegen\",\"dich\",\"die\",\"diejenige\",\"diejenigen\",\"dies\",\"diese\",\"dieselbe\",\"dieselben\",\"diesem\",\"diesen\",\"dieser\",\"dieses\",\"dir\",\"doch\",\"dort\",\"drei\",\"drin\",\"dritte\",\"dritten\",\"dritter\",\"drittes\",\"du\",\"durch\",\"durchaus\",\"durfte\",\"durften\",\"dürfen\",\"dürft\",\"e\",\"eben\",\"ebenso\",\"ehrlich\",\"ei\",\"ei,\",\"eigen\",\"eigene\",\"eigenen\",\"eigener\",\"eigenes\",\"ein\",\"einander\",\"eine\",\"einem\",\"einen\",\"einer\",\"eines\",\"einig\",\"einige\",\"einigem\",\"einigen\",\"einiger\",\"einiges\",\"einmal\",\"eins\",\"elf\",\"en\",\"ende\",\"endlich\",\"entweder\",\"er\",\"ernst\",\"erst\",\"erste\",\"ersten\",\"erster\",\"erstes\",\"es\",\"etwa\",\"etwas\",\"euch\",\"euer\",\"eure\",\"eurem\",\"euren\",\"eurer\",\"eures\",\"f\",\"folgende\",\"früher\",\"fünf\",\"fünfte\",\"fünften\",\"fünfter\",\"fünftes\",\"für\",\"g\",\"gab\",\"ganz\",\"ganze\",\"ganzen\",\"ganzer\",\"ganzes\",\"gar\",\"gedurft\",\"gegen\",\"gegenüber\",\"gehabt\",\"gehen\",\"geht\",\"gekannt\",\"gekonnt\",\"gemacht\",\"gemocht\",\"gemusst\",\"genug\",\"gerade\",\"gern\",\"gesagt\",\"geschweige\",\"gewesen\",\"gewollt\",\"geworden\",\"gibt\",\"ging\",\"gleich\",\"gott\",\"gross\",\"grosse\",\"grossen\",\"grosser\",\"grosses\",\"groß\",\"große\",\"großen\",\"großer\",\"großes\",\"gut\",\"gute\",\"guter\",\"gutes\",\"h\",\"hab\",\"habe\",\"haben\",\"habt\",\"hast\",\"hat\",\"hatte\",\"hatten\",\"hattest\",\"hattet\",\"heisst\",\"her\",\"heute\",\"hier\",\"hin\",\"hinter\",\"hoch\",\"hätte\",\"hätten\",\"i\",\"ich\",\"ihm\",\"ihn\",\"ihnen\",\"ihr\",\"ihre\",\"ihrem\",\"ihren\",\"ihrer\",\"ihres\",\"im\",\"immer\",\"in\",\"indem\",\"infolgedessen\",\"ins\",\"irgend\",\"ist\",\"j\",\"ja\",\"jahr\",\"jahre\",\"jahren\",\"je\",\"jede\",\"jedem\",\"jeden\",\"jeder\",\"jedermann\",\"jedermanns\",\"jedes\",\"jedoch\",\"jemand\",\"jemandem\",\"jemanden\",\"jene\",\"jenem\",\"jenen\",\"jener\",\"jenes\",\"jetzt\",\"k\",\"kam\",\"kann\",\"kannst\",\"kaum\",\"kein\",\"keine\",\"keinem\",\"keinen\",\"keiner\",\"keines\",\"kleine\",\"kleinen\",\"kleiner\",\"kleines\",\"kommen\",\"kommt\",\"konnte\",\"konnten\",\"kurz\",\"können\",\"könnt\",\"könnte\",\"l\",\"lang\",\"lange\",\"leicht\",\"leide\",\"lieber\",\"los\",\"m\",\"machen\",\"macht\",\"machte\",\"mag\",\"magst\",\"mahn\",\"mal\",\"man\",\"manche\",\"manchem\",\"manchen\",\"mancher\",\"manches\",\"mann\",\"mehr\",\"mein\",\"meine\",\"meinem\",\"meinen\",\"meiner\",\"meines\",\"mensch\",\"menschen\",\"mich\",\"mir\",\"mit\",\"mittel\",\"mochte\",\"mochten\",\"morgen\",\"muss\",\"musst\",\"musste\",\"mussten\",\"muß\",\"mußt\",\"möchte\",\"mögen\",\"möglich\",\"mögt\",\"müssen\",\"müsst\",\"müßt\",\"n\",\"na\",\"nach\",\"nachdem\",\"nahm\",\"natürlich\",\"neben\",\"nein\",\"neue\",\"neuen\",\"neun\",\"neunte\",\"neunten\",\"neunter\",\"neuntes\",\"nicht\",\"nichts\",\"nie\",\"niemand\",\"niemandem\",\"niemanden\",\"noch\",\"nun\",\"nur\",\"o\",\"ob\",\"oben\",\"oder\",\"offen\",\"oft\",\"ohne\",\"ordnung\",\"p\",\"q\",\"r\",\"recht\",\"rechte\",\"rechten\",\"rechter\",\"rechtes\",\"richtig\",\"rund\",\"s\",\"sa\",\"sache\",\"sagt\",\"sagte\",\"sah\",\"satt\",\"schlecht\",\"schluss\",\"schon\",\"sechs\",\"sechste\",\"sechsten\",\"sechster\",\"sechstes\",\"sehr\",\"sei\",\"seid\",\"seien\",\"sein\",\"seine\",\"seinem\",\"seinen\",\"seiner\",\"seines\",\"seit\",\"seitdem\",\"selbst\",\"sich\",\"sie\",\"sieben\",\"siebente\",\"siebenten\",\"siebenter\",\"siebentes\",\"sind\",\"so\",\"solang\",\"solche\",\"solchem\",\"solchen\",\"solcher\",\"solches\",\"soll\",\"sollen\",\"sollst\",\"sollt\",\"sollte\",\"sollten\",\"sondern\",\"sonst\",\"soweit\",\"sowie\",\"später\",\"startseite\",\"statt\",\"steht\",\"suche\",\"t\",\"tag\",\"tage\",\"tagen\",\"tat\",\"teil\",\"tel\",\"tritt\",\"trotzdem\",\"tun\",\"u\",\"uhr\",\"um\",\"und\",\"und?\",\"uns\",\"unse\",\"unsem\",\"unsen\",\"unser\",\"unsere\",\"unserer\",\"unses\",\"unter\",\"v\",\"vergangenen\",\"viel\",\"viele\",\"vielem\",\"vielen\",\"vielleicht\",\"vier\",\"vierte\",\"vierten\",\"vierter\",\"viertes\",\"vom\",\"von\",\"vor\",\"w\",\"wahr?\",\"wann\",\"war\",\"waren\",\"warst\",\"wart\",\"warum\",\"was\",\"weg\",\"wegen\",\"weil\",\"weit\",\"weiter\",\"weitere\",\"weiteren\",\"weiteres\",\"welche\",\"welchem\",\"welchen\",\"welcher\",\"welches\",\"wem\",\"wen\",\"wenig\",\"wenige\",\"weniger\",\"weniges\",\"wenigstens\",\"wenn\",\"wer\",\"werde\",\"werden\",\"werdet\",\"weshalb\",\"wessen\",\"wie\",\"wieder\",\"wieso\",\"will\",\"willst\",\"wir\",\"wird\",\"wirklich\",\"wirst\",\"wissen\",\"wo\",\"woher\",\"wohin\",\"wohl\",\"wollen\",\"wollt\",\"wollte\",\"wollten\",\"worden\",\"wurde\",\"wurden\",\"während\",\"währenddem\",\"währenddessen\",\"wäre\",\"würde\",\"würden\",\"x\",\"y\",\"z\",\"z.b\",\"zehn\",\"zehnte\",\"zehnten\",\"zehnter\",\"zehntes\",\"zeit\",\"zu\",\"zuerst\",\"zugleich\",\"zum\",\"zunächst\",\"zur\",\"zurück\",\"zusammen\",\"zwanzig\",\"zwar\",\"zwei\",\"zweite\",\"zweiten\",\"zweiter\",\"zweites\",\"zwischen\",\"zwölf\",\"über\",\"überhaupt\",\"übrigens\"]\n",
    "tfidf = TfidfVectorizer(tokenizer=tokenize, stop_words=german_stopwords)\n",
    "tfs = tfidf.fit_transform(token_dict.values())"
   ]
  },
  {
   "cell_type": "code",
   "execution_count": 63,
   "metadata": {},
   "outputs": [],
   "source": [
    "token_list = []\n",
    "for token in token_dict.values():\n",
    "    t = tokenize(token)    \n",
    "    token_list.extend(t)\n",
    "#response = tfidf.transform([list(token_dict.values())])\n"
   ]
  },
  {
   "cell_type": "code",
   "execution_count": 68,
   "metadata": {},
   "outputs": [
    {
     "data": {
      "text/plain": [
       "dict_values(['3\\n\\n3\\n \\n \\n \\n \\n \\n \\nprof dr lorenz lorenz\\n\\nmeyer\\n \\nonlinejournalismus  medienentwicklung\\n \\nqualifikationsprofil des \\nbachelors\\n \\nor an hier li\\n\\n\\n \\n \\ninsgesamt machen die\\n \\nzur re\\n\\nakkreditierung anstehenden programme laut u\\nnterlagen einen \\nsehr \\n\\ngen geschulten eindruck \\ndie curricula sind einleuchtend und \\numfassen sowohl wissenschaftliche als auch berufspraktische aspekte\\n \\n\\n \\n\\nwerden\\n \\nin den profilen der lehrenden ebenso sichtbar wie im \\nzusc\\nhnitt der lehrprojekte und in besonderen veranstaltungsformen \\n \\n \\n\\n \\n \\n \\n \\n \\n \\nprof dr l lorenz\\n\\nmeyer\\n \\n', '', '\\n˘\\n\\n˘ˇ˘ˆ˘˘\\n˙˘˛ \\n˘˘\\n\\n  ˚ ˘\\nˇ\\n˘˘˙˘\\n˚ \\n˘\\n˘˘\\n\\n1˘\\n\\n˛˘\\n\\n\\n˘\\n\\n˘\\n˘˘\\n˛\\n˙\\n˘3˘\\n˘˘\\nˇ˘\\n˘˘\\n˛\\n4\\n˘\\n˘˘\\n ˘\\n˘7\\n8\\n\\n99˚˜\\n9˘\\n˘\\n\\n ˚\\n˘\\n˘\\n\\n \\n˛\\n˛˘\\n\\n8˚\\n0b9cc9d \\n˘˘\\n \\n4\\n\\nˇ\\n\\n\\nccc˘\\n˙˘˘˘\\nc9fg\\n\\n˘˘\\n5\\n4\\n\\n3\\n\\n\\n˘\\n3\\n ˘˘\\n\\n4\\nˆ\\nˆ˙ˇ\\n˙˙\\n\\n0˘\\n\\n\\n˘\\n\\n˘˘i˘˘˚\\n˚\\nj˘\\n˘\\n\\n˘\\n˘\\n˘˘3˘˘˘˚\\n\\n4\\n\\nˆ\\nˇ\\n\\nˆ˘˘\\n˘˘\\n˝\\n˘\\n\\n\\n0\\n497\\n˘˘\\n˘˘\\n˘˘\\n˘\\n\\n˘\\n\\n˘\\n˘\\n˘\\n\\n \\n\\n\\n\\n\\n˘\\n˙\\n\\n˘\\n0\\n\\n\\n\\n\\n\\n\\n˘\\n\\n\\n\\n\\n\\n\\n\\n˘\\n\\n\\n', '\\n\\noo\\n\\n\\no\\n\\n\\n', '3\\n\\n3\\n \\n \\n \\n \\n \\n \\nprof dr lorenz lorenz\\n\\nmeyer\\n \\nonlinejournalismus  medienentwicklung\\n \\nqualifikationsprofil des \\nbachelors\\n \\nor an hier li\\n\\n\\n \\n \\ninsgesamt machen die\\n \\nzur re\\n\\nakkreditierung anstehenden programme laut u\\nnterlagen einen \\nsehr \\n\\ngen geschulten eindruck \\ndie curricula sind einleuchtend und \\numfassen sowohl wissenschaftliche als auch berufspraktische aspekte\\n \\n\\n \\n\\nwerden\\n \\nin den profilen der lehrenden ebenso sichtbar wie im \\nzusc\\nhnitt der lehrprojekte und in besonderen veranstaltungsformen \\n \\n \\n\\n \\n \\n \\n \\n \\n \\nprof dr l lorenz\\n\\nmeyer\\n \\n', 'ir5\\ntutorial\\nrecommendersystems\\n \\n© prof dr tobias galliat \\ninstitut für informationswissenschaft \\nt\\nh köln\\n 2017\\n\\n \\n\\nh den wert für \\nden parameter k beobachten sie änderungen an der validierungsergebnisse und den \\n\\nrecommender\\nattribute\\nitemrmp\\n\\n\\n \\n7\\n \\nunser letztes empfehlungssystem soll wieder die film\\n\\nbewertungen der n\\nutzer prognostizieren\\n \\nallerdings auf basis der sie beschreibenden attribute bzw de\\nr filmattribute wir führen \\nalso kein \\nkollaboratives filtern durch sondern der k\\n\\nnächster nachbar\\n\\na\\nlgorithmus ist wieder\\n \\nrein \\n\\nrecommendercfitem\\nrating\\nrmp\\n\\ngespeichert haben\\n\\n \\n\\n\\noperatoren ein filtern sie die user \\n\\n\\nknoten wieder entsprechend \\n\\n\\n\\n\\n\\n\\n\\nextensions \\n\\nrecommender\\ns\\n \\n\\nitem \\nrating prediction\\n\\nattribute based rating predicti\\n\\nwieder den wert 10 die minimale bewertung ist 1 und die breite der bewertungsskala beträgt 4 \\n\\n\\n \\n\\n\\neingangs\\n\\n\\n\\nausgang\\n\\nport des \\n\\n\\nkno\\ntens führen sie anschließend den prozess aus\\n \\n \\nwiederum ist das ergebnis für den user\\n\\nitem\\n\\nansatz etwas \\nschlechter\\n \\nals für den item\\n\\nitem\\n\\nansatz\\n \\nim vergleich zum kollaborativen filter\\nn haben sich die ergebnisse in beiden \\nfällen \\ngeringfügig ver\\nschlechter\\nt\\n\\n \\ndie ratingprognose ist aber immer noch gut\\n \\n   \\n \\n  \\n \\n \\n \\n \\nerhöhen sie auch wieder den wert für den parameter k beobachten sie änderungen an den \\nvalidierungsergebnissen und den bewertungen\\n \\nspeichern sie den prozess unter \\n\\n\\n \\n8\\n \\nin der nachfolgenden liste finden sie internetquellen mit d\\natensets\\n die sie zum \\nmodellieren und \\ntesten von recommender\\n\\nsystemen verwenden können\\n \\nviel spaß beim experimentieren\\n \\nmovielens\\n \\n\\n \\nmovie\\n \\nrecommendation\\n \\ndata\\n \\nsets\\n \\nhttpwwwgrouplensorgnode73\\n \\nyahoo\\n \\n\\n \\nmovie\\n \\nmusic\\n \\nand\\n \\nimages\\n \\nratings\\n \\ndata\\n \\nsets\\n \\nhttpwebscopesandboxyahoocomcat\\nalogphpdatatyper\\n \\njester\\n \\n\\n \\nmovie\\n \\nratings\\n \\ndata\\n \\nsets\\n \\n \\nhttpwwwieorberkeleyedugoldbergjester\\n\\ndata\\n \\nlastfm\\n \\n\\n \\nmusic\\n \\nrecommendation\\n \\ndata\\n \\nsets\\n \\nhttpwwwdticupfeduocelmamusicrecommendationdatasetindexhtml\\n \\naudioscrobbler\\n \\n\\n \\nmusic\\n \\nrecommendation\\n \\ndata\\n \\nset \\nhttpwww\\n\\netudiroumontrealcabergstrjaudioscrobblerdatahtml\\n \\ninstitut\\n \\nfür\\n \\ninformatik\\n \\nuniversität\\n \\nfreiburg\\n \\n\\n \\nbook\\n \\nratings\\n \\ndata\\n \\nsets\\n \\nhttpwwwinformatikuni\\n\\nfreiburgdeczieglerbx\\n \\nchicago\\n \\nentree\\n \\n\\n \\nfood\\n \\nratings\\n \\ndata\\n \\nsets\\n \\nhttparchiveicsuciedumldatasetsentreechicagorecommendationdata\\n \\nnational\\n \\nuniversity\\n \\nof\\n \\nsingapore\\n \\n\\n \\nscholarly\\n \\npaper\\n \\nrecommendation\\n \\nhttpwwwcompnusedusgsugiyama\\nschpaperrecdatahtml\\n \\n', 'aus sicht der berufspraxis als deren vertreter ich in die gruppe der gutachter berufen \\nwurde sind mir neben der schon genannten erfassung von nutzerbedarfen folgende zwei \\npunkte positiv aufgefallen \\nzur gelungenen berufsfeldorientierung tr−gt bei dass sowohl die lehrenden im \\nkontinuierlichen kontakt mit praxisvertretern stehen als auch dass der austausch mit \\npraxisvertretern dadurch realisiert wird dass diese in lehrveranstaltungen eingeladen \\nwerden \\ndamit zusammenh−ngend ist es auch von vorteil dass 20  der veranstaltungen von \\nfachleuten aus der praxis als lehrbeauftragte abgehalten werden in reaktion auf das \\nerste akkreditierungsverfahren so wird sicher gestellt dass die ausbildung rasch auf \\ndynamiken des berufsfeldes reagieren kann \\nkritisch ist mir an einigen stellen aufgefallen dass bei den studienzielen recht hohe ziele \\ngenannt werden bei denen sich die frage stellt ob sie tats−chlich erreicht werden \\nkınnen etwa auf s 36 bei der enorm wichtigen schnittstellenfunktion zwischen \\nbibliothek und it  \\nékonkret haben sie teil an prozessen die die digitale gesellschaft gestalten und \\nvorantreiben \\noder auf s 52 \\nsie erarbeiten innovative beitr−ge und lısungen zu priorit−ren zukunftsaufgabené \\nzu zwei ins auge gefassten pl−nen der selbstbeschreibung stand 122017 wrde mich \\ninteressieren wie hier der aktuelle stand der entwicklung ist \\n¥englischsprachige sommer school s 78 \\n¥studiengangsmonitoring an der th kın s 165f \\nals letzten punkt meiner vorabstellungnahme mıchte ich anregen dass bei den \\nstudieninhalten ein verst−rktes augenmerk auf das change management gesetzt wird \\ndenn bei allen ver−nderungsprozessen in der bibliothekarischen und \\ninformationswissenschaftlichen praxis stellt sich immer die frage wie man die \\nmitarbeiterinnen im rahmen der internen kommunikation und in der projektplanung auf \\nden weg der ver−nderung mitnimmt dies stellt einen zentralen punkt dar den die \\nzunftigen absolventinnen im beruf zu bew−ltigen haben werden und der in den \\nmodulbchern der zu akkreditierenden studieng−nge s 394627 nicht auftaucht \\nmarkus trapp \\nhamburg den 16 september 2018 \\n  2', 'ghu 543763zs116a10 verwaltung hochschulreferat 10  bauund \\ngebäudemanagementfrau  sandy weßner\\nu40318602 fakultät für kulturwissenschaften\\nfrau dr doris oltrogge\\nu40340102 fakultät für kulturwissenschaften\\nherr diplbetriebswirt edgar wokurka\\nu48329303 fakultät für informations und kommunikationswissenschaft\\nherr  bruno baltes\\nseite 3 von 3erstellt von team 103\\nstand18042019\\n', 'th köln\\n sperrvermerk\\n die \\nvorliegende  b\\nachelor\\n  m\\naster\\nthesis\\n titel vorgelegt von name name vorgelegt am ttmmjjjj vorgelegt bei name name beinhaltet \\ninterne und vertrauliche informatione\\nn vonüber \\nunt\\nernehmenorganisationbehörde etc\\n  die weitergabe des\\n inhalts\\n der arbeit\\n und ggf\\n beiliegender\\n zeichnungen\\n und daten ist \\n vollständig  \\n für folgende teile \\ngesperrte kapitel und seiten\\n \\nuntersagt es dürfen keinerlei kopien oder abschriften \\nœ auch in digitaler \\nform \\nœ gefertigt werden \\n ggf ablaufdatum der sperrfrist ttmmjjjj \\nausnahmen bedürfen der schriftlichen genehmigung von \\nunternehmenorganisationbehörde etc \\nort den \\n unterschrift\\n ', '8 ', '', '20\\n \\n \\n \\npa0007\\n \\npersonal\\n\\nstammsatz infotyp 0007 arbeitszeit\\n \\npa0000\\n \\nhr \\nmaster record infotype 0000 actions\\n \\nhrp1000\\n \\ninfotype 1000 db table\\n \\nt554t\\n \\nabsence and attendance texts\\n \\npa0016\\n \\npersonal\\n\\nstammsatz infotyp 0016 \\nvertragsbestandteile\\n \\n \\n \\n \\n \\n42\\n \\nvariable selection\\n \\n \\n43\\n \\nidentification of business key primary keys and foreign keys\\n \\n \\nsap table \\n \\n3nf table\\n \\nprimary \\nkey\\n \\nforeign \\nkey\\n \\ncomments\\n \\n1\\n \\nt001p\\n \\nhr\\narea\\n \\n \\n \\ndone\\n \\n2\\n \\nt501\\n \\nemployeeg\\nr\\noup\\n \\naus 2 wurde eine table\\n \\ndone\\n \\n3\\n \\nt501t\\n \\nemployeeg\\nr\\noupname\\n \\ndone\\n \\n4\\n \\nt503t\\n \\nemployeesubgroup\\nnames\\n \\n \\n \\ndone\\n \\n5\\n \\nt554s\\n \\nattendance and absence types\\n \\n \\n \\ndone\\n \\n6\\n \\nhrp1001\\n \\ndb\\ntablehrp\\n \\n \\n \\ndone\\n \\n7\\n \\npa0002\\n \\npersonaldata\\n \\npernr\\n \\n \\ndone\\n \\n8\\n \\nt529a\\n \\npersonnelaction\\ntypes\\n \\n \\n \\ndone\\n \\n9\\n \\nthoct\\n \\npublic\\nholiday\\ncalendar texts\\n \\n \\n \\ndone\\n \\n10\\n \\nthoci\\n \\npublic holiday\\ncalendar index\\n \\n \\n \\ndone\\n \\n11\\n \\nt529t\\n \\npersonnelaction\\ntexts\\n \\n \\n \\ndone\\n \\n12\\n \\nt529u\\n \\nstatus\\nvalues\\n \\n \\n \\ndone\\n \\n13\\n \\npa2001\\n \\nabsences\\n \\n \\n \\ndone\\n \\n14\\n \\nt530t\\n \\nreason\\naction\\ntexts\\n \\n \\n \\ndone\\n \\n15\\n \\npa0001\\n \\norganisation\\nassignment\\n \\n \\n \\ndone\\n \\n16\\n \\nt547v\\n \\ncontracttype\\n \\ncttyp\\n \\n \\ndone\\n \\n17\\n \\nt547s\\n \\ncontracttypetext\\n \\n \\n \\ndone\\n \\n18\\n \\nt500p\\n \\npersonnel\\nareas\\n \\n \\n \\ndone\\n \\n19\\n \\npa0007\\n \\nworkingtime\\n \\n \\n \\ndone\\n \\n20\\n \\npa0000\\n \\nactions\\n \\n \\n \\ndone\\n \\n21\\n \\nhrp1000\\n \\ndb\\ntable\\n \\n \\n \\ndone\\n \\n22\\n \\nt554t\\n \\nabsenceattendance\\ntexts\\n \\n \\n \\ndone\\n \\n23\\n \\npa0016\\n \\n \\ncontractdetails\\n \\n \\n \\ndone\\n \\n \\n', ''])"
      ]
     },
     "execution_count": 68,
     "metadata": {},
     "output_type": "execute_result"
    }
   ],
   "source": [
    "token_dict.values()"
   ]
  },
  {
   "cell_type": "code",
   "execution_count": 65,
   "metadata": {},
   "outputs": [
    {
     "name": "stdout",
     "output_type": "stream",
     "text": [
      "inform  -  0.5773502691896258\n",
      "fakultät  -  0.5773502691896258\n",
      "data  -  0.5773502691896258\n"
     ]
    }
   ],
   "source": [
    "term_list = 'fakultät data information science open access computer library'\n",
    "response = tfidf.transform([term_list])\n",
    "feature_names = tfidf.get_feature_names()\n",
    "for col in response.nonzero()[1]:\n",
    "    if(response[0, col] > 0):\n",
    "        print(feature_names[col], ' - ', response[0, col])"
   ]
  },
  {
   "cell_type": "code",
   "execution_count": 70,
   "metadata": {},
   "outputs": [
    {
     "name": "stdout",
     "output_type": "stream",
     "text": [
      "  (0, 431)\t0.13794322168981463\n",
      "  (0, 104)\t0.13794322168981463\n",
      "  (0, 261)\t0.13794322168981463\n",
      "  (0, 202)\t0.13794322168981463\n",
      "  (0, 465)\t0.13794322168981463\n",
      "  (0, 363)\t0.13794322168981463\n",
      "  (0, 260)\t0.12232241854045538\n",
      "  (0, 324)\t0.13794322168981463\n",
      "  (0, 72)\t0.13794322168981463\n",
      "  (0, 101)\t0.13794322168981463\n",
      "  (0, 61)\t0.1102059822974133\n",
      "  (0, 453)\t0.13794322168981463\n",
      "  (0, 366)\t0.12232241854045538\n",
      "  (0, 416)\t0.13794322168981463\n",
      "  (0, 143)\t0.13794322168981463\n",
      "  (0, 127)\t0.13794322168981463\n",
      "  (0, 140)\t0.13794322168981463\n",
      "  (0, 189)\t0.13794322168981463\n",
      "  (0, 184)\t0.13794322168981463\n",
      "  (0, 288)\t0.13794322168981463\n",
      "  (0, 258)\t0.13794322168981463\n",
      "  (0, 326)\t0.13794322168981463\n",
      "  (0, 68)\t0.13794322168981463\n",
      "  (0, 58)\t0.13794322168981463\n",
      "  (0, 337)\t0.13794322168981463\n",
      "  :\t:\n",
      "  (11, 1)\t0.03522599897700464\n",
      "  (11, 345)\t0.03522599897700464\n",
      "  (11, 272)\t0.03522599897700464\n",
      "  (11, 206)\t0.07045199795400928\n",
      "  (11, 301)\t0.07045199795400928\n",
      "  (11, 70)\t0.03522599897700464\n",
      "  (11, 2)\t0.03522599897700464\n",
      "  (11, 225)\t0.14090399590801855\n",
      "  (11, 371)\t0.07045199795400928\n",
      "  (11, 310)\t0.07045199795400928\n",
      "  (11, 304)\t0.07045199795400928\n",
      "  (11, 286)\t0.030377611632940706\n",
      "  (11, 22)\t0.06075522326588141\n",
      "  (11, 16)\t0.030377611632940706\n",
      "  (11, 23)\t0.06075522326588141\n",
      "  (11, 457)\t0.030377611632940706\n",
      "  (11, 291)\t0.030377611632940706\n",
      "  (11, 64)\t0.09113283489882211\n",
      "  (11, 6)\t0.030377611632940706\n",
      "  (11, 7)\t0.026937626067481856\n",
      "  (11, 42)\t0.030377611632940706\n",
      "  (11, 38)\t0.030377611632940706\n",
      "  (11, 44)\t0.024269365967003163\n",
      "  (11, 34)\t0.026937626067481856\n",
      "  (11, 29)\t0.022089238723417923\n"
     ]
    }
   ],
   "source": [
    "print(tfs)"
   ]
  },
  {
   "cell_type": "code",
   "execution_count": 66,
   "metadata": {
    "scrolled": false
   },
   "outputs": [
    {
     "name": "stdout",
     "output_type": "stream",
     "text": [
      "Frequency of the elements in the List :  Counter({'˘': 25, 'done': 23, '˘˘': 13, '3': 8, 'data': 8, 'al': 7, '4': 7, 'recommend': 7, 'rate': 7, 'set': 7, 'dr': 6, 'lorenz': 6, 'de': 6, 'prof': 5, 'name': 5, 'tabl': 5, 'text': 5, 'key': 5, 'meyer': 4, '˚': 4, '8': 4, 'item': 4, 'and': 4, 'infotyp': 4, 'sowohl': 3, 'lehrenden': 3, 'ˇ': 3, '˛': 3, 'wert': 3, 'attribut': 3, '10': 3, 'movi': 3, 'music': 3, 'punkt': 3, '20': 3, 'stellt': 3, '2': 3, 'fakultät': 3, 'vorgelegt': 3, 'action': 3, 'db': 3, 'absenc': 3, 'onlinejournalismu': 2, 'medienentwicklung': 2, 'qualifikationsprofil': 2, 'bachelor': 2, 'or': 2, 'li': 2, 'insgesamt': 2, 're': 2, 'akkreditierung': 2, 'anstehenden': 2, 'programm': 2, 'laut': 2, 'nterlagen': 2, 'gen': 2, 'geschulten': 2, 'eindruck': 2, 'curricula': 2, 'einleuchtend': 2, 'umfassen': 2, 'wissenschaftlich': 2, 'berufspraktisch': 2, 'aspekt': 2, 'profilen': 2, 'sichtbar': 2, 'zusc': 2, 'hnitt': 2, 'lehrprojekt': 2, 'besonderen': 2, 'veranstaltungsformen': 2, '˛˘': 2, '˙': 2, '5': 2, 'ˆ': 2, '0': 2, 'institut': 2, 'köln': 2, 'paramet': 2, 'beobachten': 2, 'änderungen': 2, '7': 2, 'bewertungen': 2, 'führen': 2, 'filtern': 2, 'user': 2, '1': 2, 'prozess': 2, 'ansatz': 2, 'schlechter': 2, 'of': 2, 'wurd': 2, 'folgend': 2, 'aufgefallen': 2, 'praxisvertretern': 2, 'praxi': 2, 'frage': 2, 'digital': 2, 'stand': 2, 'th': 2, '16': 2, 'kulturwissenschaften': 2, 'herr': 2, 'ttmmjjjj': 2, 'etc': 2, 'ggf': 2, 'œ': 2, 'pa0007': 2, 'person': 2, 'stammsatz': 2, 'pa0000': 2, 'hr': 2, 'hrp1000': 2, 't554t': 2, 'attend': 2, 'pa0016': 2, 'primari': 2, 'foreign': 2, 'area': 2, 'employeeg': 2, 'type': 2, 'personnelact': 2, 'public': 2, 'holiday': 2, 'calendar': 2, '˘ˇ˘ˆ˘˘': 1, '˙˘˛': 1, '˘˘˙˘': 1, '1˘': 1, '˘3˘': 1, 'ˇ˘': 1, '˘7': 1, '99˚˜': 1, '9˘': 1, '8˚': 1, '0b9cc9d': 1, 'ccc˘': 1, '˙˘˘˘': 1, 'c9fg': 1, 'ˆ˙ˇ': 1, '˙˙': 1, '0˘': 1, '˘˘i˘˘˚': 1, 'j˘': 1, '˘˘3˘˘˘˚': 1, 'ˆ˘˘': 1, '˝': 1, '497': 1, 'oo': 1, 'ir5': 1, 'tutori': 1, 'recommendersystem': 1, '©': 1, 'tobia': 1, 'galliat': 1, 'informationswissenschaft': 1, '2017': 1, 'validierungsergebniss': 1, 'itemrmp': 1, 'letzt': 1, 'empfehlungssystem': 1, 'film': 1, 'utzer': 1, 'prognostizieren': 1, 'allerd': 1, 'basi': 1, 'beschreibenden': 1, 'bzw': 1, 'filmattribut': 1, 'kollabor': 1, 'nächster': 1, 'nachbar': 1, 'lgorithmu': 1, 'rein': 1, 'recommendercfitem': 1, 'rmp': 1, 'gespeichert': 1, 'operatoren': 1, 'knoten': 1, 'entsprechend': 1, 'extens': 1, 'predict': 1, 'base': 1, 'predicti': 1, 'minimal': 1, 'bewertung': 1, 'breit': 1, 'bewertungsskala': 1, 'beträgt': 1, 'eingang': 1, 'ausgang': 1, 'port': 1, 'kno': 1, 'ten': 1, 'anschließend': 1, 'wiederum': 1, 'ergebni': 1, 'vergleich': 1, 'kollaborativen': 1, 'filter': 1, 'ergebniss': 1, 'fällen': 1, 'geringfügig': 1, 'ver': 1, 'ratingprognos': 1, 'erhöhen': 1, 'validierungsergebnissen': 1, 'speichern': 1, 'nachfolgenden': 1, 'list': 1, 'finden': 1, 'internetquellen': 1, 'atenset': 1, 'modellieren': 1, 'testen': 1, 'systemen': 1, 'verwenden': 1, 'spaß': 1, 'experimentieren': 1, 'movielen': 1, 'httpwwwgrouplensorgnode73': 1, 'yahoo': 1, 'imag': 1, 'httpwebscopesandboxyahoocomcat': 1, 'alogphpdatatyp': 1, 'jester': 1, 'httpwwwieorberkeleyedugoldbergjest': 1, 'lastfm': 1, 'httpwwwdticupfeduocelmamusicrecommendationdatasetindexhtml': 1, 'audioscrobbl': 1, 'httpwww': 1, 'etudiroumontrealcabergstrjaudioscrobblerdatahtml': 1, 'informatik': 1, 'universität': 1, 'freiburg': 1, 'book': 1, 'httpwwwinformatikuni': 1, 'freiburgdeczieglerbx': 1, 'chicago': 1, 'entre': 1, 'food': 1, 'httparchiveicsuciedumldatasetsentreechicagorecommendationdata': 1, 'nation': 1, 'univers': 1, 'singapor': 1, 'scholarli': 1, 'paper': 1, 'httpwwwcompnusedusgsugiyama': 1, 'schpaperrecdatahtml': 1, 'sicht': 1, 'berufspraxi': 1, 'vertret': 1, 'grupp': 1, 'gutacht': 1, 'berufen': 1, 'genannten': 1, 'erfassung': 1, 'nutzerbedarfen': 1, 'positiv': 1, 'gelungenen': 1, 'berufsfeldorientierung': 1, 'tr−gt': 1, 'kontinuierlichen': 1, 'kontakt': 1, 'stehen': 1, 'austausch': 1, 'realisiert': 1, 'lehrveranstaltungen': 1, 'eingeladen': 1, 'zusammenh−ngend': 1, 'vorteil': 1, 'veranstaltungen': 1, 'fachleuten': 1, 'lehrbeauftragt': 1, 'abgehalten': 1, 'reaktion': 1, 'akkreditierungsverfahren': 1, 'sicher': 1, 'gestellt': 1, 'ausbildung': 1, 'rasch': 1, 'dynamiken': 1, 'berufsfeld': 1, 'reagieren': 1, 'kritisch': 1, 'stellen': 1, 'studienzielen': 1, 'hohe': 1, 'ziel': 1, 'genannt': 1, 'tats−chlich': 1, 'erreicht': 1, 'kınnen': 1, '36': 1, 'enorm': 1, 'wichtigen': 1, 'schnittstellenfunkt': 1, 'bibliothek': 1, 'it': 1, 'ékonkret': 1, 'prozessen': 1, 'gesellschaft': 1, 'gestalten': 1, 'vorantreiben': 1, '52': 1, 'erarbeiten': 1, 'innov': 1, 'beitr−g': 1, 'lısungen': 1, 'priorit−ren': 1, 'zukunftsaufgabené': 1, 'aug': 1, 'gefassten': 1, 'pl−nen': 1, 'selbstbeschreibung': 1, '122017': 1, 'wrde': 1, 'interessieren': 1, 'aktuel': 1, 'entwicklung': 1, '¥englischsprachig': 1, 'sommer': 1, 'school': 1, '78': 1, '¥studiengangsmonitor': 1, 'kın': 1, '165f': 1, 'letzten': 1, 'vorabstellungnahm': 1, 'mıchte': 1, 'anregen': 1, 'studieninhalten': 1, 'verst−rkt': 1, 'augenmerk': 1, 'chang': 1, 'manag': 1, 'gesetzt': 1, 'ver−nderungsprozessen': 1, 'bibliothekarischen': 1, 'informationswissenschaftlichen': 1, 'mitarbeiterinnen': 1, 'rahmen': 1, 'internen': 1, 'kommunik': 1, 'projektplanung': 1, 'ver−nderung': 1, 'mitnimmt': 1, 'zentralen': 1, 'dar': 1, 'zunftigen': 1, 'absolventinnen': 1, 'beruf': 1, 'bew−ltigen': 1, 'modulbchern': 1, 'akkreditierenden': 1, 'studieng−ng': 1, '394627': 1, 'auftaucht': 1, 'marku': 1, 'trapp': 1, 'hamburg': 1, 'septemb': 1, '2018': 1, 'ghu': 1, '543763zs116a10': 1, 'verwaltung': 1, 'hochschulreferat': 1, 'bauund': 1, 'gebäudemanagementfrau': 1, 'sandi': 1, 'weßner': 1, 'u40318602': 1, 'frau': 1, 'dori': 1, 'oltrogg': 1, 'u40340102': 1, 'diplbetriebswirt': 1, 'edgar': 1, 'wokurka': 1, 'u48329303': 1, 'inform': 1, 'kommunikationswissenschaft': 1, 'bruno': 1, 'balt': 1, '3erstellt': 1, 'team': 1, '103': 1, 'stand18042019': 1, 'sperrvermerk': 1, 'vorliegend': 1, 'achelor': 1, 'aster': 1, 'thesi': 1, 'titel': 1, 'beinhaltet': 1, 'intern': 1, 'vertraulich': 1, 'information': 1, 'vonüber': 1, 'unt': 1, 'ernehmenorganisationbehörd': 1, 'weitergab': 1, 'inhalt': 1, 'arbeit': 1, 'beiliegend': 1, 'zeichnungen': 1, 'daten': 1, 'vollständig': 1, 'gesperrt': 1, 'kapitel': 1, 'seiten': 1, 'untersagt': 1, 'keinerlei': 1, 'kopien': 1, 'abschriften': 1, 'form': 1, 'gefertigt': 1, 'ablaufdatum': 1, 'sperrfrist': 1, 'ausnahmen': 1, 'bedürfen': 1, 'schriftlichen': 1, 'genehmigung': 1, 'unternehmenorganisationbehörd': 1, 'ort': 1, 'unterschrift': 1, '0007': 1, 'arbeitszeit': 1, 'master': 1, 'record': 1, '0000': 1, '1000': 1, '0016': 1, 'vertragsbestandteil': 1, '42': 1, 'variabl': 1, 'select': 1, '43': 1, 'identif': 1, 'busi': 1, 'sap': 1, '3nf': 1, 'comment': 1, 't001p': 1, 't501': 1, 'oup': 1, 't501t': 1, 'oupnam': 1, 't503t': 1, 'employeesubgroup': 1, 't554': 1, '6': 1, 'hrp1001': 1, 'tablehrp': 1, 'pa0002': 1, 'personaldata': 1, 'pernr': 1, 't529a': 1, '9': 1, 'thoct': 1, 'thoci': 1, 'index': 1, '11': 1, 't529t': 1, '12': 1, 't529u': 1, 'statu': 1, 'valu': 1, '13': 1, 'pa2001': 1, '14': 1, 't530t': 1, 'reason': 1, '15': 1, 'pa0001': 1, 'organis': 1, 'assign': 1, 't547v': 1, 'contracttyp': 1, 'cttyp': 1, '17': 1, 't547': 1, 'contracttypetext': 1, '18': 1, 't500p': 1, 'personnel': 1, '19': 1, 'workingtim': 1, '21': 1, '22': 1, 'absenceattend': 1, '23': 1, 'contractdetail': 1})\n"
     ]
    }
   ],
   "source": [
    "import collections\n",
    "tokens = token_list\n",
    "for sw in stopwords:\n",
    "    try:\n",
    "        tokens = list(filter(lambda a: a != sw, tokens)) # remove stopwords from list\n",
    "    except:\n",
    "        print(sw + \" not in list\")\n",
    "ctr = collections.Counter(tokens)\n",
    "print(\"Frequency of the elements in the List : \",ctr)\n"
   ]
  }
 ],
 "metadata": {
  "kernelspec": {
   "display_name": "Python 3",
   "language": "python",
   "name": "python3"
  },
  "language_info": {
   "codemirror_mode": {
    "name": "ipython",
    "version": 3
   },
   "file_extension": ".py",
   "mimetype": "text/x-python",
   "name": "python",
   "nbconvert_exporter": "python",
   "pygments_lexer": "ipython3",
   "version": "3.7.6"
  }
 },
 "nbformat": 4,
 "nbformat_minor": 2
}
